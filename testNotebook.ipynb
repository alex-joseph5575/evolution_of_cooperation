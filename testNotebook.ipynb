{
 "cells": [
  {
   "cell_type": "code",
   "execution_count": 5,
   "metadata": {},
   "outputs": [
    {
     "ename": "ModuleNotFoundError",
     "evalue": "No module named 'custom_strats'",
     "output_type": "error",
     "traceback": [
      "\u001b[1;31m---------------------------------------------------------------------------\u001b[0m",
      "\u001b[1;31mModuleNotFoundError\u001b[0m                       Traceback (most recent call last)",
      "Cell \u001b[1;32mIn[5], line 5\u001b[0m\n\u001b[0;32m      3\u001b[0m \u001b[39mimport\u001b[39;00m \u001b[39msys\u001b[39;00m\n\u001b[0;32m      4\u001b[0m sys\u001b[39m.\u001b[39mpath\u001b[39m.\u001b[39minsert(\u001b[39m0\u001b[39m, \u001b[39m'\u001b[39m\u001b[39mC:\u001b[39m\u001b[39m\\\\\u001b[39;00m\u001b[39mUsers\u001b[39m\u001b[39m\\\\\u001b[39;00m\u001b[39mausti\u001b[39m\u001b[39m\\\\\u001b[39;00m\u001b[39mAppData\u001b[39m\u001b[39m\\\\\u001b[39;00m\u001b[39mLocal\u001b[39m\u001b[39m\\\\\u001b[39;00m\u001b[39mPrograms\u001b[39m\u001b[39m\\\\\u001b[39;00m\u001b[39mPython\u001b[39m\u001b[39m\\\\\u001b[39;00m\u001b[39mPython310\u001b[39m\u001b[39m\\\\\u001b[39;00m\u001b[39mLib\u001b[39m\u001b[39m\\\\\u001b[39;00m\u001b[39msite-packages\u001b[39m\u001b[39m\\\\\u001b[39;00m\u001b[39maxelrod\u001b[39m\u001b[39m\\\\\u001b[39;00m\u001b[39mstrategies\u001b[39m\u001b[39m\\\\\u001b[39;00m\u001b[39mcustom_strats.py\u001b[39m\u001b[39m'\u001b[39m)\n\u001b[1;32m----> 5\u001b[0m \u001b[39mfrom\u001b[39;00m \u001b[39mcustom_strats\u001b[39;00m \u001b[39mimport\u001b[39;00m customPlayer1\n",
      "\u001b[1;31mModuleNotFoundError\u001b[0m: No module named 'custom_strats'"
     ]
    }
   ],
   "source": [
    "# imports\n",
    "import axelrod as axl\n",
    "import sys\n",
    "sys.path.insert(0, 'C:\\\\Users\\\\austi\\\\AppData\\\\Local\\\\Programs\\\\Python\\\\Python310\\\\Lib\\\\site-packages\\\\axelrod\\\\strategies')\n",
    "from custom_strats import customPlayer1"
   ]
  },
  {
   "cell_type": "code",
   "execution_count": 4,
   "metadata": {},
   "outputs": [
    {
     "name": "stderr",
     "output_type": "stream",
     "text": []
    },
    {
     "ename": "TypeError",
     "evalue": "Player.clone() missing 1 required positional argument: 'self'",
     "output_type": "error",
     "traceback": [
      "\u001b[1;31m---------------------------------------------------------------------------\u001b[0m",
      "\u001b[1;31mTypeError\u001b[0m                                 Traceback (most recent call last)",
      "Cell \u001b[1;32mIn[4], line 7\u001b[0m\n\u001b[0;32m      4\u001b[0m players \u001b[39m=\u001b[39m [axl\u001b[39m.\u001b[39mTitForTat, axl\u001b[39m.\u001b[39mcustomPlayer1]\n\u001b[0;32m      6\u001b[0m tournament \u001b[39m=\u001b[39m axl\u001b[39m.\u001b[39mTournament(players, seed\u001b[39m=\u001b[39m\u001b[39m1\u001b[39m)  \u001b[39m# Create a tournament\u001b[39;00m\n\u001b[1;32m----> 7\u001b[0m results \u001b[39m=\u001b[39m tournament\u001b[39m.\u001b[39;49mplay()  \u001b[39m# Play the tournament\u001b[39;00m\n",
      "File \u001b[1;32mc:\\Users\\austi\\AppData\\Local\\Programs\\Python\\Python310\\lib\\site-packages\\axelrod\\tournament.py:147\u001b[0m, in \u001b[0;36mTournament.play\u001b[1;34m(self, build_results, filename, processes, progress_bar)\u001b[0m\n\u001b[0;32m    141\u001b[0m     warnings\u001b[39m.\u001b[39mwarn(\n\u001b[0;32m    142\u001b[0m         \u001b[39m\"\u001b[39m\u001b[39mTournament results will not be accessible since \u001b[39m\u001b[39m\"\u001b[39m\n\u001b[0;32m    143\u001b[0m         \u001b[39m\"\u001b[39m\u001b[39mbuild_results=False and no filename was supplied.\u001b[39m\u001b[39m\"\u001b[39m\n\u001b[0;32m    144\u001b[0m     )\n\u001b[0;32m    146\u001b[0m \u001b[39mif\u001b[39;00m processes \u001b[39mis\u001b[39;00m \u001b[39mNone\u001b[39;00m:\n\u001b[1;32m--> 147\u001b[0m     \u001b[39mself\u001b[39;49m\u001b[39m.\u001b[39;49m_run_serial(build_results\u001b[39m=\u001b[39;49mbuild_results)\n\u001b[0;32m    148\u001b[0m \u001b[39melse\u001b[39;00m:\n\u001b[0;32m    149\u001b[0m     \u001b[39mself\u001b[39m\u001b[39m.\u001b[39m_run_parallel(build_results\u001b[39m=\u001b[39mbuild_results, processes\u001b[39m=\u001b[39mprocesses)\n",
      "File \u001b[1;32mc:\\Users\\austi\\AppData\\Local\\Programs\\Python\\Python310\\lib\\site-packages\\axelrod\\tournament.py:176\u001b[0m, in \u001b[0;36mTournament._run_serial\u001b[1;34m(self, build_results)\u001b[0m\n\u001b[0;32m    173\u001b[0m progress_bar \u001b[39m=\u001b[39m \u001b[39mself\u001b[39m\u001b[39m.\u001b[39m_get_progress_bar()\n\u001b[0;32m    175\u001b[0m \u001b[39mfor\u001b[39;00m chunk \u001b[39min\u001b[39;00m chunks:\n\u001b[1;32m--> 176\u001b[0m     results \u001b[39m=\u001b[39m \u001b[39mself\u001b[39;49m\u001b[39m.\u001b[39;49m_play_matches(chunk, build_results\u001b[39m=\u001b[39;49mbuild_results)\n\u001b[0;32m    177\u001b[0m     \u001b[39mself\u001b[39m\u001b[39m.\u001b[39m_write_interactions_to_file(results, writer\u001b[39m=\u001b[39mwriter)\n\u001b[0;32m    179\u001b[0m     \u001b[39mif\u001b[39;00m \u001b[39mself\u001b[39m\u001b[39m.\u001b[39muse_progress_bar:\n",
      "File \u001b[1;32mc:\\Users\\austi\\AppData\\Local\\Programs\\Python\\Python310\\lib\\site-packages\\axelrod\\tournament.py:450\u001b[0m, in \u001b[0;36mTournament._play_matches\u001b[1;34m(self, chunk, build_results)\u001b[0m\n\u001b[0;32m    448\u001b[0m index_pair, match_params, repetitions, seed \u001b[39m=\u001b[39m chunk\n\u001b[0;32m    449\u001b[0m p1_index, p2_index \u001b[39m=\u001b[39m index_pair\n\u001b[1;32m--> 450\u001b[0m player1 \u001b[39m=\u001b[39m \u001b[39mself\u001b[39;49m\u001b[39m.\u001b[39;49mplayers[p1_index]\u001b[39m.\u001b[39;49mclone()\n\u001b[0;32m    451\u001b[0m player2 \u001b[39m=\u001b[39m \u001b[39mself\u001b[39m\u001b[39m.\u001b[39mplayers[p2_index]\u001b[39m.\u001b[39mclone()\n\u001b[0;32m    452\u001b[0m match_params[\u001b[39m\"\u001b[39m\u001b[39mplayers\u001b[39m\u001b[39m\"\u001b[39m] \u001b[39m=\u001b[39m (player1, player2)\n",
      "\u001b[1;31mTypeError\u001b[0m: Player.clone() missing 1 required positional argument: 'self'"
     ]
    }
   ],
   "source": [
    "# Create players and run tournament\n",
    "\n",
    "# players = [s() for s in axl.demo_strategies]  # Create players\n",
    "players = [axl.TitForTat, axl.customPlayer1]\n",
    "\n",
    "tournament = axl.Tournament(players, seed=1)  # Create a tournament\n",
    "results = tournament.play()  # Play the tournament\n"
   ]
  },
  {
   "cell_type": "code",
   "execution_count": 3,
   "metadata": {},
   "outputs": [
    {
     "name": "stdout",
     "output_type": "stream",
     "text": [
      "[[0, 0, 0, 0, 0, 0, 0, 0, 0, 0], [4, 4, 4, 4, 4, 4, 4, 4, 4, 4], [0, 0, 0, 0, 0, 0, 0, 0, 0, 0], [1, 1, 1, 1, 1, 1, 1, 1, 1, 1], [2, 1, 1, 2, 1, 1, 2, 2, 1, 1]]\n",
      "\n",
      "['Defector', 'Grudger', 'Tit For Tat', 'Cooperator', 'Random: 0.5']\n"
     ]
    }
   ],
   "source": [
    "# view results\n",
    "\n",
    "print(results.wins) \n",
    "print()\n",
    "print(results.ranked_names)"
   ]
  }
 ],
 "metadata": {
  "kernelspec": {
   "display_name": "Python 3",
   "language": "python",
   "name": "python3"
  },
  "language_info": {
   "codemirror_mode": {
    "name": "ipython",
    "version": 3
   },
   "file_extension": ".py",
   "mimetype": "text/x-python",
   "name": "python",
   "nbconvert_exporter": "python",
   "pygments_lexer": "ipython3",
   "version": "3.10.9"
  },
  "orig_nbformat": 4
 },
 "nbformat": 4,
 "nbformat_minor": 2
}
