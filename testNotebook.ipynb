{
 "cells": [
  {
   "cell_type": "code",
   "execution_count": 8,
   "metadata": {},
   "outputs": [],
   "source": [
    "# imports\n",
    "import axelrod as axl\n"
   ]
  },
  {
   "cell_type": "code",
   "execution_count": 21,
   "metadata": {},
   "outputs": [
    {
     "name": "stdout",
     "output_type": "stream",
     "text": [
      "[<class 'axelrod.strategies.cooperator.Cooperator'>, <class 'axelrod.strategies.defector.Defector'>, <class 'axelrod.strategies.titfortat.TitForTat'>, <class 'axelrod.strategies.grudger.Grudger'>, <class 'axelrod.strategies.rand.Random'>]\n",
      "------------------\n",
      "[<class 'axelrod.strategies.custom_strats.customPlayer1'>, <class 'axelrod.strategies.titfortat.TitForTat'>]\n"
     ]
    }
   ],
   "source": [
    "print(axl.demo_strategies)\n",
    "print('------------------')\n",
    "print([axl.customPlayer1, axl.TitForTat])"
   ]
  },
  {
   "cell_type": "code",
   "execution_count": 24,
   "metadata": {},
   "outputs": [
    {
     "name": "stderr",
     "output_type": "stream",
     "text": [
      "\n",
      "\u001b[A\n",
      "Playing matches: 100%|██████████| 3/3 [00:00<00:00, 11.57it/s]\n",
      "\n",
      "\u001b[A\n",
      "Analysing: 100%|██████████| 25/25 [00:00<00:00, 43.93it/s]\n"
     ]
    }
   ],
   "source": [
    "# Create players and run tournament\n",
    "\n",
    "# players = [s() for s in axl.demo_strategies]  # Create players\n",
    "players = [axl.TitForTat(), axl.customPlayer1()]\n",
    "\n",
    "tournament = axl.Tournament(players, seed=1)  # Create a tournament\n",
    "results = tournament.play()  # Play the tournament\n"
   ]
  },
  {
   "cell_type": "code",
   "execution_count": 25,
   "metadata": {},
   "outputs": [
    {
     "name": "stdout",
     "output_type": "stream",
     "text": [
      "[[0, 0, 0, 0, 0, 0, 0, 0, 0, 0], [0, 0, 0, 0, 0, 0, 0, 0, 0, 0]]\n",
      "\n",
      "['Tit For Tat', 'customPlayer1']\n"
     ]
    }
   ],
   "source": [
    "# view results\n",
    "\n",
    "print(results.wins) \n",
    "print()\n",
    "print(results.ranked_names)"
   ]
  }
 ],
 "metadata": {
  "kernelspec": {
   "display_name": "Python 3",
   "language": "python",
   "name": "python3"
  },
  "language_info": {
   "codemirror_mode": {
    "name": "ipython",
    "version": 3
   },
   "file_extension": ".py",
   "mimetype": "text/x-python",
   "name": "python",
   "nbconvert_exporter": "python",
   "pygments_lexer": "ipython3",
   "version": "3.10.9"
  },
  "orig_nbformat": 4
 },
 "nbformat": 4,
 "nbformat_minor": 2
}
