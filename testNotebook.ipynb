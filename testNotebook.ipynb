{
 "cells": [
  {
   "cell_type": "code",
   "execution_count": 1,
   "metadata": {},
   "outputs": [],
   "source": [
    "# imports\n",
    "import axelrod as axl\n",
    "# from customPlayer1 import customPlayer1"
   ]
  },
  {
   "cell_type": "code",
   "execution_count": 2,
   "metadata": {},
   "outputs": [
    {
     "name": "stderr",
     "output_type": "stream",
     "text": [
      "Playing matches: 100%|██████████| 15/15 [00:01<00:00, 14.08it/s]\n",
      "Analysing: 100%|██████████| 25/25 [00:00<00:00, 43.47it/s]\n"
     ]
    }
   ],
   "source": [
    "# Create players and run tournament\n",
    "\n",
    "players = [s() for s in axl.demo_strategies]  # Create players\n",
    "# players = [axl.TitForTat, customPlayer1]\n",
    "\n",
    "tournament = axl.Tournament(players, seed=1)  # Create a tournament\n",
    "results = tournament.play()  # Play the tournament\n"
   ]
  },
  {
   "cell_type": "code",
   "execution_count": 3,
   "metadata": {},
   "outputs": [
    {
     "name": "stdout",
     "output_type": "stream",
     "text": [
      "[[0, 0, 0, 0, 0, 0, 0, 0, 0, 0], [4, 4, 4, 4, 4, 4, 4, 4, 4, 4], [0, 0, 0, 0, 0, 0, 0, 0, 0, 0], [1, 1, 1, 1, 1, 1, 1, 1, 1, 1], [2, 1, 1, 2, 1, 1, 2, 2, 1, 1]]\n",
      "\n",
      "['Defector', 'Grudger', 'Tit For Tat', 'Cooperator', 'Random: 0.5']\n"
     ]
    }
   ],
   "source": [
    "# view results\n",
    "\n",
    "print(results.wins) \n",
    "print()\n",
    "print(results.ranked_names)"
   ]
  }
 ],
 "metadata": {
  "kernelspec": {
   "display_name": "Python 3",
   "language": "python",
   "name": "python3"
  },
  "language_info": {
   "codemirror_mode": {
    "name": "ipython",
    "version": 3
   },
   "file_extension": ".py",
   "mimetype": "text/x-python",
   "name": "python",
   "nbconvert_exporter": "python",
   "pygments_lexer": "ipython3",
   "version": "3.10.9"
  },
  "orig_nbformat": 4
 },
 "nbformat": 4,
 "nbformat_minor": 2
}
