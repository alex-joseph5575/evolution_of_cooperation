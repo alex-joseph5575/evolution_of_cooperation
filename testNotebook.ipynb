{
 "cells": [
  {
   "cell_type": "code",
   "execution_count": 1,
   "metadata": {},
   "outputs": [],
   "source": [
    "# imports \n",
    "# restart kernel before re-importing\n",
    "import axelrod as axl\n"
   ]
  },
  {
   "cell_type": "code",
   "execution_count": 2,
   "metadata": {},
   "outputs": [
    {
     "name": "stderr",
     "output_type": "stream",
     "text": [
      "Playing matches: 100%|██████████| 15/15 [00:00<00:00, 77.92it/s]\n",
      "Analysing: 100%|██████████| 25/25 [00:00<00:00, 198.95it/s]\n"
     ]
    }
   ],
   "source": [
    "# Create players and run tournament\n",
    "\n",
    "# players = [s() for s in axl.demo_strategies]  # Create players\n",
    "players = [axl.TitForTat(), axl.customPlayer1(),  axl.Defector(), axl.Cooperator(), axl.Grudger()]\n",
    "\n",
    "tournament = axl.Tournament(players, seed=1)  # Create a tournament\n",
    "results = tournament.play()  # Play the tournament\n"
   ]
  },
  {
   "cell_type": "code",
   "execution_count": 13,
   "metadata": {},
   "outputs": [
    {
     "name": "stdout",
     "output_type": "stream",
     "text": [
      "['Tit For Tat', 'customPlayer1', 'Grudger', 'Cooperator', 'Defector']\n",
      "\n",
      "results\n",
      "0 TitForTat\n",
      "score:  [0, 0, 0, 0, 0, 0, 0, 0, 0, 0]\n",
      "1 customPlayer1\n",
      "score:  [0, 0, 0, 0, 0, 0, 0, 0, 0, 0]\n",
      "2 Grudger\n",
      "score:  [0, 0, 0, 0, 0, 0, 0, 0, 0, 0]\n",
      "3 Cooperator\n",
      "score:  [0, 0, 0, 0, 0, 0, 0, 0, 0, 0]\n",
      "4 Defector\n",
      "score:  [4, 4, 4, 4, 4, 4, 4, 4, 4, 4]\n"
     ]
    }
   ],
   "source": [
    "# view results\n",
    "strats = [\"TitForTat\", \"customPlayer1\", \"Defector\", \"Cooperator\", \"Grudger\"]\n",
    "print(strats)\n",
    "print()\n",
    "print(\"results\")\n",
    "\n",
    "for i in range(len(results.ranking)):\n",
    "    print(i, strats[results.ranking[i]])\n",
    "    print(\"score: \", results.wins[results.ranking[i]])\n",
    "\n",
    "# for i in range(len(results.ranking)):\n",
    "#     print(\"rank: \", i, strats[results.ranking[i]] , \"score: \", results.wins[results.ranking[i]])\n",
    "# print()\n",
    "# print()\n",
    "# print(players)\n",
    "# print(results.wins) \n",
    "# print()\n",
    "# print(results.normalised_scores) # score per round\n",
    "# print()\n",
    "# print(results.cooperation)\n"
   ]
  }
 ],
 "metadata": {
  "kernelspec": {
   "display_name": "Python 3",
   "language": "python",
   "name": "python3"
  },
  "language_info": {
   "codemirror_mode": {
    "name": "ipython",
    "version": 3
   },
   "file_extension": ".py",
   "mimetype": "text/x-python",
   "name": "python",
   "nbconvert_exporter": "python",
   "pygments_lexer": "ipython3",
   "version": "3.10.9"
  },
  "orig_nbformat": 4,
  "vscode": {
   "interpreter": {
    "hash": "759d0d21976bd259edbb251dc21a2558bba30222ea54aab68b2315a5050e134b"
   }
  }
 },
 "nbformat": 4,
 "nbformat_minor": 2
}
