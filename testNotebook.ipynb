{
 "cells": [
  {
   "cell_type": "code",
   "execution_count": 1,
   "metadata": {},
   "outputs": [],
   "source": [
    "# imports \n",
    "# restart kernel before re-importing\n",
    "import axelrod as axl\n"
   ]
  },
  {
   "cell_type": "code",
   "execution_count": 4,
   "metadata": {},
   "outputs": [
    {
     "name": "stderr",
     "output_type": "stream",
     "text": [
      "\n",
      "\u001b[A\n",
      "\u001b[A\n",
      "\u001b[A\n",
      "\u001b[A\n",
      "\u001b[A\n",
      "\u001b[A\n",
      "Playing matches: 100%|██████████| 15/15 [00:00<00:00, 17.03it/s]\n",
      "\n",
      "\u001b[A\n",
      "\u001b[A\n",
      "Analysing: 100%|██████████| 25/25 [00:00<00:00, 37.76it/s]\n"
     ]
    }
   ],
   "source": [
    "# Create players and run tournament\n",
    "\n",
    "# players = [s() for s in axl.demo_strategies]  # Create players\n",
    "players = [axl.TitForTat(), axl.customPlayer1(),  axl.Defector(), axl.Cooperator(), axl.Grudger()]\n",
    "\n",
    "tournament = axl.Tournament(players, seed=1)  # Create a tournament\n",
    "results = tournament.play()  # Play the tournament\n"
   ]
  },
  {
   "cell_type": "code",
   "execution_count": null,
   "metadata": {},
   "outputs": [],
   "source": [
    "# view results\n",
    "\n",
    "print(results.ranked_names)\n",
    "print()\n",
    "print(players)\n",
    "print(results.wins) \n",
    "print()\n",
    "print(results.normalised_scores) # score per round\n",
    "print()\n",
    "print(results.cooperation)\n"
   ]
  }
 ],
 "metadata": {
  "kernelspec": {
   "display_name": "Python 3",
   "language": "python",
   "name": "python3"
  },
  "language_info": {
   "codemirror_mode": {
    "name": "ipython",
    "version": 3
   },
   "file_extension": ".py",
   "mimetype": "text/x-python",
   "name": "python",
   "nbconvert_exporter": "python",
   "pygments_lexer": "ipython3",
   "version": "3.10.9"
  },
  "orig_nbformat": 4
 },
 "nbformat": 4,
 "nbformat_minor": 2
}
