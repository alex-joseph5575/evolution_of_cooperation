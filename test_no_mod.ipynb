{
 "cells": [
  {
   "cell_type": "code",
   "execution_count": 1,
   "metadata": {},
   "outputs": [],
   "source": [
    "import axelrod"
   ]
  },
  {
   "cell_type": "code",
   "execution_count": null,
   "metadata": {},
   "outputs": [],
   "source": [
    "import 'custom_strats.py'"
   ]
  },
  {
   "cell_type": "code",
   "execution_count": 2,
   "metadata": {},
   "outputs": [
    {
     "name": "stderr",
     "output_type": "stream",
     "text": [
      "Playing matches: 100%|██████████| 6/6 [00:00<00:00, 66.11it/s]\n",
      "Analysing: 100%|██████████| 25/25 [00:00<00:00, 195.70it/s]\n"
     ]
    }
   ],
   "source": [
    "C, D = axelrod.Action.C, axelrod.Action.D\n",
    "\n",
    "class MyStrategy(axelrod.Player):\n",
    "    name = \"My Strategy\"\n",
    "    classifier = {\n",
    "        'memory_depth': 0,\n",
    "        'stochastic': False,\n",
    "        'long_run_time': False,\n",
    "        'inspects_source': False,\n",
    "        'manipulates_source': False,\n",
    "        'manipulates_state': False,\n",
    "    }\n",
    "\n",
    "    def strategy(self, opponent):\n",
    "        return C\n",
    "\n",
    "tournament = axelrod.Tournament(\n",
    "    players=[axelrod.Cooperator(), axelrod.Defector(), MyStrategy()],\n",
    "    turns=200,\n",
    "    repetitions=10,\n",
    ")\n",
    "\n",
    "results = tournament.play()\n"
   ]
  },
  {
   "cell_type": "code",
   "execution_count": 4,
   "metadata": {},
   "outputs": [
    {
     "name": "stderr",
     "output_type": "stream",
     "text": [
      "Playing matches: 100%|██████████| 10/10 [00:00<00:00, 45.16it/s]\n",
      "Analysing: 100%|██████████| 25/25 [00:00<00:00, 129.18it/s]\n"
     ]
    }
   ],
   "source": [
    "from test_strategy import TestStrategy\n",
    "tournament = axelrod.Tournament(\n",
    "    players=[axelrod.Cooperator(), axelrod.Defector(), MyStrategy(), TestStrategy()],\n",
    "    turns=200,\n",
    "    repetitions=10,\n",
    ")\n",
    "\n",
    "results = tournament.play()\n"
   ]
  },
  {
   "cell_type": "code",
   "execution_count": 5,
   "metadata": {},
   "outputs": [
    {
     "name": "stdout",
     "output_type": "stream",
     "text": [
      "['Defector', 'Test Strategy', 'Cooperator', 'My Strategy']\n"
     ]
    }
   ],
   "source": [
    "print(results.ranked_names)\n"
   ]
  }
 ],
 "metadata": {
  "kernelspec": {
   "display_name": "Python 3",
   "language": "python",
   "name": "python3"
  },
  "language_info": {
   "codemirror_mode": {
    "name": "ipython",
    "version": 3
   },
   "file_extension": ".py",
   "mimetype": "text/x-python",
   "name": "python",
   "nbconvert_exporter": "python",
   "pygments_lexer": "ipython3",
   "version": "3.10.9"
  },
  "orig_nbformat": 4
 },
 "nbformat": 4,
 "nbformat_minor": 2
}
