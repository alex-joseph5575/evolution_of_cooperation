{
 "cells": [
  {
   "cell_type": "code",
   "execution_count": 1,
   "metadata": {},
   "outputs": [],
   "source": [
    "import axelrod as axl"
   ]
  },
  {
   "cell_type": "code",
   "execution_count": 2,
   "metadata": {},
   "outputs": [
    {
     "name": "stderr",
     "output_type": "stream",
     "text": [
      "Playing matches: 100%|██████████| 6/6 [00:00<00:00, 45.93it/s]\n",
      "Analysing: 100%|██████████| 25/25 [00:00<00:00, 154.73it/s]\n"
     ]
    }
   ],
   "source": [
    "C, D = axl.Action.C, axl.Action.D\n",
    "\n",
    "class MyStrategy(axl.Player):\n",
    "    name = \"My Strategy\"\n",
    "    classifier = {\n",
    "        'memory_depth': 0,\n",
    "        'stochastic': False,\n",
    "        'long_run_time': False,\n",
    "        'inspects_source': False,\n",
    "        'manipulates_source': False,\n",
    "        'manipulates_state': False,\n",
    "    }\n",
    "\n",
    "    def strategy(self, opponent):\n",
    "        return C\n",
    "\n",
    "tournament = axl.Tournament(\n",
    "    players=[axl.Cooperator(), axl.Defector(), MyStrategy()],\n",
    "    turns=200,\n",
    "    repetitions=10,\n",
    ")\n",
    "\n",
    "results = tournament.play()\n"
   ]
  },
  {
   "cell_type": "code",
   "execution_count": 3,
   "metadata": {},
   "outputs": [
    {
     "name": "stderr",
     "output_type": "stream",
     "text": [
      "Playing matches: 100%|██████████| 21/21 [00:00<00:00, 78.57it/s]\n",
      "Analysing: 100%|██████████| 25/25 [00:00<00:00, 193.54it/s]\n"
     ]
    }
   ],
   "source": [
    "from test_strategy import TestStrategy\n",
    "from custom_strats import customPlayer1, chaotic_clairvoyant\n",
    "tournament = axl.Tournament(\n",
    "    players=[axl.Cooperator(), axl.Defector(), MyStrategy(), TestStrategy(), customPlayer1(), chaotic_clairvoyant()],\n",
    "    turns=200,\n",
    "    repetitions=10,\n",
    ")\n",
    "\n",
    "results = tournament.play()\n"
   ]
  },
  {
   "cell_type": "code",
   "execution_count": 4,
   "metadata": {},
   "outputs": [
    {
     "name": "stdout",
     "output_type": "stream",
     "text": [
      "['Defector', 'chaotic_clairvoyant', 'Test Strategy', 'customPlayer1', 'Cooperator', 'My Strategy']\n"
     ]
    }
   ],
   "source": [
    "print(results.ranked_names)\n"
   ]
  }
 ],
 "metadata": {
  "kernelspec": {
   "display_name": "Python 3",
   "language": "python",
   "name": "python3"
  },
  "language_info": {
   "codemirror_mode": {
    "name": "ipython",
    "version": 3
   },
   "file_extension": ".py",
   "mimetype": "text/x-python",
   "name": "python",
   "nbconvert_exporter": "python",
   "pygments_lexer": "ipython3",
   "version": "3.10.9"
  },
  "orig_nbformat": 4
 },
 "nbformat": 4,
 "nbformat_minor": 2
}
