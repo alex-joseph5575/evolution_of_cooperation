{
 "cells": [
  {
   "cell_type": "code",
   "execution_count": 1,
   "metadata": {},
   "outputs": [],
   "source": [
    "import axelrod as axl"
   ]
  },
  {
   "cell_type": "code",
   "execution_count": 2,
   "metadata": {},
   "outputs": [],
   "source": [
    "C, D = axl.Action.C, axl.Action.D\n",
    "\n",
    "class MyStrategy(axl.Player):\n",
    "    name = \"My Strategy\"\n",
    "\n",
    "    def strategy(self, opponent):\n",
    "        return C\n"
   ]
  },
  {
   "cell_type": "code",
   "execution_count": 3,
   "metadata": {},
   "outputs": [
    {
     "name": "stderr",
     "output_type": "stream",
     "text": [
      "Playing matches: 100%|██████████| 6/6 [00:00<00:00, 88.47it/s]\n",
      "Analysing: 100%|██████████| 25/25 [00:00<00:00, 208.85it/s]\n"
     ]
    }
   ],
   "source": [
    "\n",
    "tournament = axl.Tournament(\n",
    "    players=[axl.Cooperator(), axl.Defector(), MyStrategy()],\n",
    "    turns=200,\n",
    "    repetitions=10,\n",
    ")\n",
    "\n",
    "results = tournament.play()\n",
    "    "
   ]
  },
  {
   "cell_type": "code",
   "execution_count": 5,
   "metadata": {},
   "outputs": [
    {
     "name": "stderr",
     "output_type": "stream",
     "text": [
      "Playing matches:  21%|██▏       | 6/28 [00:18<00:00, 44.37it/s]"
     ]
    },
    {
     "ename": "KeyboardInterrupt",
     "evalue": "",
     "output_type": "error",
     "traceback": [
      "\u001b[1;31m---------------------------------------------------------------------------\u001b[0m",
      "\u001b[1;31mKeyboardInterrupt\u001b[0m                         Traceback (most recent call last)",
      "Cell \u001b[1;32mIn[5], line 10\u001b[0m\n\u001b[0;32m      3\u001b[0m \u001b[39m# from custom_strat_md import *\u001b[39;00m\n\u001b[0;32m      4\u001b[0m tournament \u001b[39m=\u001b[39m axl\u001b[39m.\u001b[39mTournament(\n\u001b[0;32m      5\u001b[0m     players\u001b[39m=\u001b[39m[axl\u001b[39m.\u001b[39mCooperator(), axl\u001b[39m.\u001b[39mDefector(), MyStrategy(), TestStrategy(), example(), chaotic_clairvoyant(), fibTitForTat()],\n\u001b[0;32m      6\u001b[0m     turns\u001b[39m=\u001b[39m\u001b[39m200\u001b[39m,\n\u001b[0;32m      7\u001b[0m     repetitions\u001b[39m=\u001b[39m\u001b[39m10\u001b[39m,\n\u001b[0;32m      8\u001b[0m )\n\u001b[1;32m---> 10\u001b[0m results \u001b[39m=\u001b[39m tournament\u001b[39m.\u001b[39;49mplay()\n",
      "File \u001b[1;32mc:\\Users\\austi\\AppData\\Local\\Programs\\Python\\Python310\\lib\\site-packages\\axelrod\\tournament.py:147\u001b[0m, in \u001b[0;36mTournament.play\u001b[1;34m(self, build_results, filename, processes, progress_bar)\u001b[0m\n\u001b[0;32m    141\u001b[0m     warnings\u001b[39m.\u001b[39mwarn(\n\u001b[0;32m    142\u001b[0m         \u001b[39m\"\u001b[39m\u001b[39mTournament results will not be accessible since \u001b[39m\u001b[39m\"\u001b[39m\n\u001b[0;32m    143\u001b[0m         \u001b[39m\"\u001b[39m\u001b[39mbuild_results=False and no filename was supplied.\u001b[39m\u001b[39m\"\u001b[39m\n\u001b[0;32m    144\u001b[0m     )\n\u001b[0;32m    146\u001b[0m \u001b[39mif\u001b[39;00m processes \u001b[39mis\u001b[39;00m \u001b[39mNone\u001b[39;00m:\n\u001b[1;32m--> 147\u001b[0m     \u001b[39mself\u001b[39;49m\u001b[39m.\u001b[39;49m_run_serial(build_results\u001b[39m=\u001b[39;49mbuild_results)\n\u001b[0;32m    148\u001b[0m \u001b[39melse\u001b[39;00m:\n\u001b[0;32m    149\u001b[0m     \u001b[39mself\u001b[39m\u001b[39m.\u001b[39m_run_parallel(build_results\u001b[39m=\u001b[39mbuild_results, processes\u001b[39m=\u001b[39mprocesses)\n",
      "File \u001b[1;32mc:\\Users\\austi\\AppData\\Local\\Programs\\Python\\Python310\\lib\\site-packages\\axelrod\\tournament.py:176\u001b[0m, in \u001b[0;36mTournament._run_serial\u001b[1;34m(self, build_results)\u001b[0m\n\u001b[0;32m    173\u001b[0m progress_bar \u001b[39m=\u001b[39m \u001b[39mself\u001b[39m\u001b[39m.\u001b[39m_get_progress_bar()\n\u001b[0;32m    175\u001b[0m \u001b[39mfor\u001b[39;00m chunk \u001b[39min\u001b[39;00m chunks:\n\u001b[1;32m--> 176\u001b[0m     results \u001b[39m=\u001b[39m \u001b[39mself\u001b[39;49m\u001b[39m.\u001b[39;49m_play_matches(chunk, build_results\u001b[39m=\u001b[39;49mbuild_results)\n\u001b[0;32m    177\u001b[0m     \u001b[39mself\u001b[39m\u001b[39m.\u001b[39m_write_interactions_to_file(results, writer\u001b[39m=\u001b[39mwriter)\n\u001b[0;32m    179\u001b[0m     \u001b[39mif\u001b[39;00m \u001b[39mself\u001b[39m\u001b[39m.\u001b[39muse_progress_bar:\n",
      "File \u001b[1;32mc:\\Users\\austi\\AppData\\Local\\Programs\\Python\\Python310\\lib\\site-packages\\axelrod\\tournament.py:456\u001b[0m, in \u001b[0;36mTournament._play_matches\u001b[1;34m(self, chunk, build_results)\u001b[0m\n\u001b[0;32m    454\u001b[0m match \u001b[39m=\u001b[39m Match(\u001b[39m*\u001b[39m\u001b[39m*\u001b[39mmatch_params)\n\u001b[0;32m    455\u001b[0m \u001b[39mfor\u001b[39;00m _ \u001b[39min\u001b[39;00m \u001b[39mrange\u001b[39m(repetitions):\n\u001b[1;32m--> 456\u001b[0m     \u001b[39mmatch\u001b[39;49;00m\u001b[39m.\u001b[39;49mplay()\n\u001b[0;32m    458\u001b[0m     \u001b[39mif\u001b[39;00m build_results:\n\u001b[0;32m    459\u001b[0m         results \u001b[39m=\u001b[39m \u001b[39mself\u001b[39m\u001b[39m.\u001b[39m_calculate_results(match\u001b[39m.\u001b[39mresult)\n",
      "File \u001b[1;32mc:\\Users\\austi\\AppData\\Local\\Programs\\Python\\Python310\\lib\\site-packages\\axelrod\\match.py:195\u001b[0m, in \u001b[0;36mMatch.play\u001b[1;34m(self)\u001b[0m\n\u001b[0;32m    193\u001b[0m result \u001b[39m=\u001b[39m []\n\u001b[0;32m    194\u001b[0m \u001b[39mfor\u001b[39;00m _ \u001b[39min\u001b[39;00m \u001b[39mrange\u001b[39m(turns):\n\u001b[1;32m--> 195\u001b[0m     plays \u001b[39m=\u001b[39m \u001b[39mself\u001b[39;49m\u001b[39m.\u001b[39;49msimultaneous_play(\n\u001b[0;32m    196\u001b[0m         \u001b[39mself\u001b[39;49m\u001b[39m.\u001b[39;49mplayers[\u001b[39m0\u001b[39;49m], \u001b[39mself\u001b[39;49m\u001b[39m.\u001b[39;49mplayers[\u001b[39m1\u001b[39;49m], \u001b[39mself\u001b[39;49m\u001b[39m.\u001b[39;49mnoise\n\u001b[0;32m    197\u001b[0m     )\n\u001b[0;32m    198\u001b[0m     result\u001b[39m.\u001b[39mappend(plays)\n\u001b[0;32m    200\u001b[0m \u001b[39mif\u001b[39;00m \u001b[39mself\u001b[39m\u001b[39m.\u001b[39m_cache_update_required:\n",
      "File \u001b[1;32mc:\\Users\\austi\\AppData\\Local\\Programs\\Python\\Python310\\lib\\site-packages\\axelrod\\match.py:149\u001b[0m, in \u001b[0;36mMatch.simultaneous_play\u001b[1;34m(self, player, coplayer, noise)\u001b[0m\n\u001b[0;32m    147\u001b[0m \u001b[39mdef\u001b[39;00m \u001b[39msimultaneous_play\u001b[39m(\u001b[39mself\u001b[39m, player, coplayer, noise\u001b[39m=\u001b[39m\u001b[39m0\u001b[39m):\n\u001b[0;32m    148\u001b[0m \u001b[39m    \u001b[39m\u001b[39m\"\"\"This pits two players against each other.\"\"\"\u001b[39;00m\n\u001b[1;32m--> 149\u001b[0m     s1, s2 \u001b[39m=\u001b[39m player\u001b[39m.\u001b[39mstrategy(coplayer), coplayer\u001b[39m.\u001b[39;49mstrategy(player)\n\u001b[0;32m    150\u001b[0m     \u001b[39mif\u001b[39;00m noise:\n\u001b[0;32m    151\u001b[0m         \u001b[39m# Note this uses the Match classes random generator, not either\u001b[39;00m\n\u001b[0;32m    152\u001b[0m         \u001b[39m# player's random generator. A player shouldn't be able to\u001b[39;00m\n\u001b[0;32m    153\u001b[0m         \u001b[39m# predict the outcome of this noise flip.\u001b[39;00m\n\u001b[0;32m    154\u001b[0m         s1 \u001b[39m=\u001b[39m \u001b[39mself\u001b[39m\u001b[39m.\u001b[39m_random\u001b[39m.\u001b[39mrandom_flip(s1, noise)\n",
      "File \u001b[1;32mc:\\Users\\austi\\OneDrive\\Documents\\Chapman\\repos\\evolution_of_cooperation\\custom_strats.py:123\u001b[0m, in \u001b[0;36mfibTitForTat.strategy\u001b[1;34m(self, opponent)\u001b[0m\n\u001b[0;32m    119\u001b[0m     \u001b[39mreturn\u001b[39;00m C\n\u001b[0;32m    121\u001b[0m \u001b[39m# Each turn, fibTitForTat has a chance of defecting outright\u001b[39;00m\n\u001b[0;32m    122\u001b[0m \u001b[39m# as determined by a one-in-fib(turnCount) chance\u001b[39;00m\n\u001b[1;32m--> 123\u001b[0m fibChance \u001b[39m=\u001b[39m fib(\u001b[39mself\u001b[39;49m\u001b[39m.\u001b[39;49mturnCount)\n\u001b[0;32m    124\u001b[0m \u001b[39mif\u001b[39;00m getRandom(fibChance) \u001b[39m==\u001b[39m \u001b[39mTrue\u001b[39;00m:\n\u001b[0;32m    125\u001b[0m     \u001b[39mreturn\u001b[39;00m D\n",
      "File \u001b[1;32mc:\\Users\\austi\\OneDrive\\Documents\\Chapman\\repos\\evolution_of_cooperation\\misc_functions.py:6\u001b[0m, in \u001b[0;36mfib\u001b[1;34m(n)\u001b[0m\n\u001b[0;32m      4\u001b[0m \u001b[39mif\u001b[39;00m n \u001b[39min\u001b[39;00m {\u001b[39m0\u001b[39m, \u001b[39m1\u001b[39m}:\n\u001b[0;32m      5\u001b[0m     \u001b[39mreturn\u001b[39;00m n\n\u001b[1;32m----> 6\u001b[0m \u001b[39mreturn\u001b[39;00m fib(n \u001b[39m-\u001b[39m \u001b[39m2\u001b[39m) \u001b[39m+\u001b[39m fib(n \u001b[39m-\u001b[39;49m \u001b[39m1\u001b[39;49m)\n",
      "File \u001b[1;32mc:\\Users\\austi\\OneDrive\\Documents\\Chapman\\repos\\evolution_of_cooperation\\misc_functions.py:6\u001b[0m, in \u001b[0;36mfib\u001b[1;34m(n)\u001b[0m\n\u001b[0;32m      4\u001b[0m \u001b[39mif\u001b[39;00m n \u001b[39min\u001b[39;00m {\u001b[39m0\u001b[39m, \u001b[39m1\u001b[39m}:\n\u001b[0;32m      5\u001b[0m     \u001b[39mreturn\u001b[39;00m n\n\u001b[1;32m----> 6\u001b[0m \u001b[39mreturn\u001b[39;00m fib(n \u001b[39m-\u001b[39m \u001b[39m2\u001b[39m) \u001b[39m+\u001b[39m fib(n \u001b[39m-\u001b[39;49m \u001b[39m1\u001b[39;49m)\n",
      "    \u001b[1;31m[... skipping similar frames: fib at line 6 (22 times)]\u001b[0m\n",
      "File \u001b[1;32mc:\\Users\\austi\\OneDrive\\Documents\\Chapman\\repos\\evolution_of_cooperation\\misc_functions.py:6\u001b[0m, in \u001b[0;36mfib\u001b[1;34m(n)\u001b[0m\n\u001b[0;32m      4\u001b[0m \u001b[39mif\u001b[39;00m n \u001b[39min\u001b[39;00m {\u001b[39m0\u001b[39m, \u001b[39m1\u001b[39m}:\n\u001b[0;32m      5\u001b[0m     \u001b[39mreturn\u001b[39;00m n\n\u001b[1;32m----> 6\u001b[0m \u001b[39mreturn\u001b[39;00m fib(n \u001b[39m-\u001b[39;49m \u001b[39m2\u001b[39;49m) \u001b[39m+\u001b[39m fib(n \u001b[39m-\u001b[39m \u001b[39m1\u001b[39m)\n",
      "File \u001b[1;32mc:\\Users\\austi\\OneDrive\\Documents\\Chapman\\repos\\evolution_of_cooperation\\misc_functions.py:3\u001b[0m, in \u001b[0;36mfib\u001b[1;34m(n)\u001b[0m\n\u001b[0;32m      1\u001b[0m \u001b[39mimport\u001b[39;00m \u001b[39mrandom\u001b[39;00m\n\u001b[1;32m----> 3\u001b[0m \u001b[39mdef\u001b[39;00m \u001b[39mfib\u001b[39m(n):\n\u001b[0;32m      4\u001b[0m     \u001b[39mif\u001b[39;00m n \u001b[39min\u001b[39;00m {\u001b[39m0\u001b[39m, \u001b[39m1\u001b[39m}:\n\u001b[0;32m      5\u001b[0m         \u001b[39mreturn\u001b[39;00m n\n",
      "\u001b[1;31mKeyboardInterrupt\u001b[0m: "
     ]
    }
   ],
   "source": [
    "from test_strategy import TestStrategy\n",
    "from custom_strats import *\n",
    "# from custom_strat_md import *\n",
    "tournament = axl.Tournament(\n",
    "    players=[axl.Cooperator(), axl.Defector(), MyStrategy(), TestStrategy(), example(), chaotic_clairvoyant()],\n",
    "    turns=200,\n",
    "    repetitions=10,\n",
    ")\n",
    "\n",
    "results = tournament.play()\n"
   ]
  },
  {
   "cell_type": "code",
   "execution_count": null,
   "metadata": {},
   "outputs": [],
   "source": [
    "print(results.ranked_names)\n",
    "print(results.scores)"
   ]
  }
 ],
 "metadata": {
  "kernelspec": {
   "display_name": "Python 3",
   "language": "python",
   "name": "python3"
  },
  "language_info": {
   "codemirror_mode": {
    "name": "ipython",
    "version": 3
   },
   "file_extension": ".py",
   "mimetype": "text/x-python",
   "name": "python",
   "nbconvert_exporter": "python",
   "pygments_lexer": "ipython3",
   "version": "3.10.9"
  },
  "orig_nbformat": 4
 },
 "nbformat": 4,
 "nbformat_minor": 2
}
