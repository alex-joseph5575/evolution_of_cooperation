{
 "cells": [
  {
   "cell_type": "code",
   "execution_count": 36,
   "metadata": {},
   "outputs": [],
   "source": [
    "import axelrod as axl"
   ]
  },
  {
   "cell_type": "code",
   "execution_count": 37,
   "metadata": {},
   "outputs": [
    {
     "name": "stderr",
     "output_type": "stream",
     "text": [
      "Playing matches: 100%|██████████| 15/15 [00:00<00:00, 376.00it/s]\n",
      "Analysing: 100%|██████████| 25/25 [00:00<00:00, 56.92it/s]\n"
     ]
    }
   ],
   "source": [
    "# make and play tournament\n",
    "import pandas as pd\n",
    "import sys\n",
    "sys.path.append(\"../\") # act as if one directory up\n",
    "\n",
    "from src.functions import *\n",
    "from src.custom_strats import *\n",
    "from src.misc_functions import *\n",
    "from src.strategy_descriptions import *\n",
    "\n",
    "# run a basic tournament\n",
    "players = [axl.Cooperator(), axl.Defector(),\n",
    "           axl.TitForTat(), axl.Grudger(), example()]\n",
    "tournament = axl.Tournament(players, turns=10, repetitions=3)\n",
    "results = tournament.play()"
   ]
  },
  {
   "cell_type": "code",
   "execution_count": 38,
   "metadata": {},
   "outputs": [
    {
     "name": "stdout",
     "output_type": "stream",
     "text": [
      "   Rank         Name  Median_score  Cooperation_rating  Wins\n",
      "0     0  Tit For Tat         2.475               0.775   0.0\n",
      "1     1      Grudger         2.475               0.775   0.0\n",
      "2     2      example         2.475               0.775   0.0\n",
      "3     3     Defector         2.300               0.000   4.0\n",
      "4     4   Cooperator         2.250               1.000   0.0\n"
     ]
    }
   ],
   "source": [
    "summaryDf = pd.DataFrame(results.summarise())\n",
    "\n",
    "# print columns 0:5\n",
    "print(summaryDf.iloc[:, 0:5])"
   ]
  },
  {
   "cell_type": "code",
   "execution_count": 39,
   "metadata": {},
   "outputs": [
    {
     "name": "stdout",
     "output_type": "stream",
     "text": [
      "<class 'axelrod.result_set.ResultSet'>\n",
      "<class 'axelrod.tournament.Tournament'>\n"
     ]
    }
   ],
   "source": [
    "# check datatype of results\n",
    "print(type(results))\n",
    "print(type(tournament))"
   ]
  },
  {
   "cell_type": "code",
   "execution_count": 40,
   "metadata": {},
   "outputs": [
    {
     "name": "stdout",
     "output_type": "stream",
     "text": [
      "   Rank         Name  Median_score  Cooperation_rating  Wins  Total score  \\\n",
      "0     0  Tit For Tat         2.475               0.775   0.0          270   \n",
      "1     1      Grudger         2.475               0.775   0.0          276   \n",
      "2     2      example         2.475               0.775   0.0          297   \n",
      "3     3     Defector         2.300               0.000   4.0          297   \n",
      "4     4   Cooperator         2.250               1.000   0.0          297   \n",
      "\n",
      "   Avg. score per turn  Score Std. deviation  Normalised Score  \n",
      "0                  9.0                   0.0              1.80  \n",
      "1                  9.2                   0.0              1.84  \n",
      "2                  9.9                   0.0              1.98  \n",
      "3                  9.9                   0.0              1.98  \n",
      "4                  9.9                   0.0              1.98  \n"
     ]
    }
   ],
   "source": [
    "print(resultsToDF(results, tournament))\n",
    "df = resultsToDF(results, tournament)"
   ]
  },
  {
   "attachments": {},
   "cell_type": "markdown",
   "metadata": {},
   "source": [
    "# Plots"
   ]
  },
  {
   "cell_type": "code",
   "execution_count": 41,
   "metadata": {},
   "outputs": [
    {
     "name": "stdout",
     "output_type": "stream",
     "text": [
      "[(C, D), (D, D), (C, D), (C, C), (D, D), (D, D), (C, D), (C, C), (C, D), (C, D)]\n"
     ]
    }
   ],
   "source": [
    "match = axl.Match(players, turns=10, noise=0.2, prob_end=0)\n",
    "type(match.play())\n",
    "\n",
    "matchresult = match.play()\n",
    "print(matchresult)\n"
   ]
  },
  {
   "cell_type": "code",
   "execution_count": 42,
   "metadata": {},
   "outputs": [],
   "source": [
    "import numpy as np\n",
    "import matplotlib.pyplot as plt\n",
    "\n",
    "def plot_match_results(match_results):\n",
    "    \"\"\"\n",
    "    Plots the results of a match played using Axelrod.\n",
    "    :param match_results: List of tuples representing the moves played in the match.\n",
    "    :return: None\n",
    "    \"\"\"\n",
    "    score_p1 = score_p2 = 0\n",
    "    scores = []\n",
    "    for m1, m2 in match_results:\n",
    "        if m1 == \"C\":\n",
    "            score_p1 += 3 if m2 == \"C\" else 0\n",
    "        else:\n",
    "            score_p1 += 5 if m2 == \"C\" else 1\n",
    "        if m2 == \"C\":\n",
    "            score_p2 += 3 if m1 == \"C\" else 0\n",
    "        else:\n",
    "            score_p2 += 5 if m1 == \"C\" else 1\n",
    "        scores.append((score_p1, score_p2))\n",
    "\n",
    "    scores = np.array(scores)\n",
    "\n",
    "    fig, ax = plt.subplots()\n",
    "    ax.plot(scores)\n",
    "    ax.plot(scores[:, 0], linestyle='--')\n",
    "    ax.set_xlabel('Turn')\n",
    "    ax.set_ylabel('Score')\n",
    "    ax.set_title('Match Results')\n",
    "    ax.legend(['Player 1', 'Player 2 (dotted line)'])\n",
    "    plt.show()\n"
   ]
  },
  {
   "cell_type": "code",
   "execution_count": 43,
   "metadata": {},
   "outputs": [],
   "source": [
    "def display_match_results(match_results):\n",
    "    \"\"\"\n",
    "    Displays the results of a match played using Axelrod.\n",
    "    :param match_results: List of tuples representing the moves played in the match.\n",
    "    :return: None\n",
    "    \"\"\"\n",
    "    score_p1 = score_p2 = 0\n",
    "    df = pd.DataFrame(columns=[\"Turn\", \"Player 1\", \"Player 2\", \"Score P1\", \"Score P2\"])\n",
    "    for i, (m1, m2) in enumerate(match_results):\n",
    "        if m1 == \"C\":\n",
    "            score_p1 += 3 if m2 == \"C\" else 0\n",
    "        else:\n",
    "            score_p1 += 5 if m2 == \"C\" else 1\n",
    "        if m2 == \"C\":\n",
    "            score_p2 += 3 if m1 == \"C\" else 0\n",
    "        else:\n",
    "            score_p2 += 5 if m1 == \"C\" else 1\n",
    "        df = df.append({\"Turn\": i+1, \"Player 1\": m1, \"Player 2\": m2, \"Score P1\": score_p1, \"Score P2\": score_p2}, ignore_index=True)\n",
    "    print(df)\n"
   ]
  },
  {
   "cell_type": "code",
   "execution_count": 45,
   "metadata": {},
   "outputs": [
    {
     "data": {
      "image/png": "[encoded data removed]",
      "text/plain": [
       "<Figure size 640x480 with 1 Axes>"
      ]
     },
     "metadata": {},
     "output_type": "display_data"
    }
   ],
   "source": [
    "print(matchresult)\n",
    "# plot_match_results(matchresult)"
   ]
  },
  {
   "cell_type": "code",
   "execution_count": null,
   "metadata": {},
   "outputs": [],
   "source": [
    "plot_bar_chart(df)"
   ]
  },
  {
   "cell_type": "code",
   "execution_count": null,
   "metadata": {},
   "outputs": [],
   "source": [
    "plot_line_chart(df)"
   ]
  },
  {
   "cell_type": "code",
   "execution_count": null,
   "metadata": {},
   "outputs": [],
   "source": [
    "plot_heatmap(df)"
   ]
  },
  {
   "cell_type": "code",
   "execution_count": null,
   "metadata": {},
   "outputs": [],
   "source": [
    "plot_box_plot(df)"
   ]
  }
 ],
 "metadata": {
  "kernelspec": {
   "display_name": "Python 3",
   "language": "python",
   "name": "python3"
  },
  "language_info": {
   "codemirror_mode": {
    "name": "ipython",
    "version": 3
   },
   "file_extension": ".py",
   "mimetype": "text/x-python",
   "name": "python",
   "nbconvert_exporter": "python",
   "pygments_lexer": "ipython3",
   "version": "3.10.9"
  },
  "orig_nbformat": 4
 },
 "nbformat": 4,
 "nbformat_minor": 2
}
