{
 "cells": [
  {
   "cell_type": "code",
   "execution_count": 11,
   "metadata": {},
   "outputs": [],
   "source": [
    "import axelrod as axl"
   ]
  },
  {
   "cell_type": "code",
   "execution_count": null,
   "metadata": {},
   "outputs": [],
   "source": []
  },
  {
   "cell_type": "code",
   "execution_count": 15,
   "metadata": {},
   "outputs": [
    {
     "name": "stderr",
     "output_type": "stream",
     "text": [
      "Playing matches: 100%|██████████| 15/15 [00:00<00:00, 141.90it/s]\n",
      "Analysing: 100%|██████████| 25/25 [00:00<00:00, 37.07it/s]\n"
     ]
    }
   ],
   "source": [
    "import sys\n",
    "sys.path.append(\"../\")\n",
    "\n",
    "from src.custom_strats import *\n",
    "from src.misc_functions import *\n",
    "from src.strategy_descriptions import *\n",
    "\n",
    "# run a basic tournament\n",
    "players = [axl.Cooperator(), axl.Defector(),\n",
    "           axl.TitForTat(), axl.Grudger(), example()]\n",
    "tournament = axl.Tournament(players, turns=10, repetitions=3)\n",
    "results = tournament.play()"
   ]
  },
  {
   "cell_type": "code",
   "execution_count": 17,
   "metadata": {},
   "outputs": [
    {
     "name": "stdout",
     "output_type": "stream",
     "text": [
      "        Player  Total score  Avg. score per turn  Std. deviation\n",
      "0   Cooperator          270                  9.0             0.0\n",
      "1     Defector          276                  9.2             0.0\n",
      "2  Tit For Tat          297                  9.9             0.0\n",
      "3      Grudger          297                  9.9             0.0\n",
      "4      example          297                  9.9             0.0\n"
     ]
    }
   ],
   "source": [
    "# RESULTS\n",
    "import pandas as pd\n",
    "\n",
    "# Create a DataFrame with the scores\n",
    "data = {'Player': [str(player) for player in results.players],\n",
    "        'Total score': [sum(score) for score in results.scores],\n",
    "        'Avg. score per turn': [round(sum(score) / (len(score) * tournament.turns), 2) for score in results.scores],\n",
    "        'Std. deviation': [round(pd.Series(score).std(), 2) for score in results.scores]}\n",
    "\n",
    "df = pd.DataFrame(data)\n",
    "\n",
    "# Print the DataFrame\n",
    "print(df)"
   ]
  },
  {
   "cell_type": "code",
   "execution_count": 27,
   "metadata": {},
   "outputs": [
    {
     "name": "stdout",
     "output_type": "stream",
     "text": [
      "\n",
      "   Rank         Name  Median_score  Cooperation_rating  Wins  Initial_C_rate  \\\n",
      "0     0  Tit For Tat         2.475               0.775   0.0             1.0   \n",
      "1     1      Grudger         2.475               0.775   0.0             1.0   \n",
      "2     2      example         2.475               0.775   0.0             1.0   \n",
      "3     3     Defector         2.300               0.000   4.0             0.0   \n",
      "4     4   Cooperator         2.250               1.000   0.0             1.0   \n",
      "\n",
      "   CC_rate  CD_rate  DC_rate  DD_rate  CC_to_C_rate  CD_to_C_rate  \\\n",
      "0     0.75    0.025    0.000    0.225           1.0           0.0   \n",
      "1     0.75    0.025    0.000    0.225           1.0           0.0   \n",
      "2     0.75    0.025    0.000    0.225           1.0           0.0   \n",
      "3     0.00    0.000    0.325    0.675           0.0           0.0   \n",
      "4     0.75    0.250    0.000    0.000           1.0           1.0   \n",
      "\n",
      "   DC_to_C_rate  DD_to_C_rate  \n",
      "0             0             0  \n",
      "1             0             0  \n",
      "2             0             0  \n",
      "3             0             0  \n",
      "4             0             0  \n",
      "File saved as results_1.csv\n"
     ]
    }
   ],
   "source": [
    "summary = results.summarise()\n",
    "# import pprint\n",
    "# pprint.pprint(summary)\n",
    "\n",
    "# put into dataframe\n",
    "df = pd.DataFrame(summary)\n",
    "print()\n",
    "\n",
    "print(df)\n",
    "\n",
    "# print to csv, if file exists, increment filename\n",
    "import os.path\n",
    "from os import path\n",
    "\n",
    "# check if file exists\n",
    "if (path.exists(\"../outputs/results_0.csv\")):\n",
    "    # increment filename\n",
    "    i = 1\n",
    "    while (path.exists(\"../outputs/results_{0}.csv\".format(i))):\n",
    "        i += 1\n",
    "else:\n",
    "    i = 0\n",
    "    \n",
    "df.to_csv(\"../outputs/results_{0}.csv\".format(i), index=False)\n",
    "print(\"File saved as results_{0}.csv\".format(i))\n"
   ]
  },
  {
   "cell_type": "code",
   "execution_count": null,
   "metadata": {},
   "outputs": [],
   "source": []
  }
 ],
 "metadata": {
  "kernelspec": {
   "display_name": "Python 3",
   "language": "python",
   "name": "python3"
  },
  "language_info": {
   "codemirror_mode": {
    "name": "ipython",
    "version": 3
   },
   "file_extension": ".py",
   "mimetype": "text/x-python",
   "name": "python",
   "nbconvert_exporter": "python",
   "pygments_lexer": "ipython3",
   "version": "3.10.9"
  },
  "orig_nbformat": 4
 },
 "nbformat": 4,
 "nbformat_minor": 2
}
