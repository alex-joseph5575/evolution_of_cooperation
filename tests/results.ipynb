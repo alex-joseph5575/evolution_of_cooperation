{
 "cells": [
  {
   "cell_type": "code",
   "execution_count": 1,
   "metadata": {},
   "outputs": [],
   "source": [
    "import axelrod as axl"
   ]
  },
  {
   "cell_type": "code",
   "execution_count": 7,
   "metadata": {},
   "outputs": [
    {
     "name": "stderr",
     "output_type": "stream",
     "text": [
      "Playing matches: 100%|██████████| 15/15 [00:00<00:00, 254.93it/s]\n",
      "Analysing: 100%|██████████| 25/25 [00:00<00:00, 52.49it/s]\n"
     ]
    }
   ],
   "source": [
    "# make and play tournament\n",
    "import pandas as pd\n",
    "import sys\n",
    "sys.path.append(\"../\") # act as if one directory up\n",
    "\n",
    "from src.functions import *\n",
    "from src.custom_strats import *\n",
    "from src.misc_functions import *\n",
    "from src.strategy_descriptions import *\n",
    "\n",
    "# run a basic tournament\n",
    "players = [axl.Cooperator(), axl.Defector(),\n",
    "           axl.TitForTat(), axl.Grudger(), example()]\n",
    "tournament = axl.Tournament(players, turns=10, repetitions=3)\n",
    "results = tournament.play()"
   ]
  },
  {
   "cell_type": "code",
   "execution_count": 8,
   "metadata": {},
   "outputs": [
    {
     "name": "stdout",
     "output_type": "stream",
     "text": [
      "   Rank         Name  Median_score  Cooperation_rating  Wins\n",
      "0     0  Tit For Tat         2.475               0.775   0.0\n",
      "1     1      Grudger         2.475               0.775   0.0\n",
      "2     2      example         2.475               0.775   0.0\n",
      "3     3     Defector         2.300               0.000   4.0\n",
      "4     4   Cooperator         2.250               1.000   0.0\n"
     ]
    }
   ],
   "source": [
    "summaryDf = pd.DataFrame(results.summarise())\n",
    "\n",
    "# print columns 0:5\n",
    "print(summaryDf.iloc[:, 0:5])"
   ]
  },
  {
   "cell_type": "code",
   "execution_count": 12,
   "metadata": {},
   "outputs": [
    {
     "name": "stdout",
     "output_type": "stream",
     "text": [
      "<class 'axelrod.result_set.ResultSet'>\n",
      "<class 'axelrod.tournament.Tournament'>\n"
     ]
    }
   ],
   "source": [
    "# check datatype of results\n",
    "print(type(results))\n",
    "print(type(tournament))"
   ]
  },
  {
   "cell_type": "code",
   "execution_count": 11,
   "metadata": {},
   "outputs": [
    {
     "name": "stdout",
     "output_type": "stream",
     "text": [
      "   Rank         Name  Median_score  Cooperation_rating  Wins  Total score  \\\n",
      "0     0  Tit For Tat         2.475               0.775   0.0          270   \n",
      "1     1      Grudger         2.475               0.775   0.0          276   \n",
      "2     2      example         2.475               0.775   0.0          297   \n",
      "3     3     Defector         2.300               0.000   4.0          297   \n",
      "4     4   Cooperator         2.250               1.000   0.0          297   \n",
      "\n",
      "   Avg. score per turn  Score Std. deviation  Normalised Score  \n",
      "0                  9.0                   0.0              1.80  \n",
      "1                  9.2                   0.0              1.84  \n",
      "2                  9.9                   0.0              1.98  \n",
      "3                  9.9                   0.0              1.98  \n",
      "4                  9.9                   0.0              1.98  \n"
     ]
    }
   ],
   "source": [
    "print(resultsToDF(results, tournament))"
   ]
  },
  {
   "attachments": {},
   "cell_type": "markdown",
   "metadata": {},
   "source": [
    "# Plots"
   ]
  },
  {
   "cell_type": "code",
   "execution_count": null,
   "metadata": {},
   "outputs": [],
   "source": [
    "# plots\n",
    "\n",
    "\n",
    "plot = axl.Plot(results)\n",
    "p = plot.boxplot()\n",
    "p.show()"
   ]
  }
 ],
 "metadata": {
  "kernelspec": {
   "display_name": "Python 3",
   "language": "python",
   "name": "python3"
  },
  "language_info": {
   "codemirror_mode": {
    "name": "ipython",
    "version": 3
   },
   "file_extension": ".py",
   "mimetype": "text/x-python",
   "name": "python",
   "nbconvert_exporter": "python",
   "pygments_lexer": "ipython3",
   "version": "3.10.9"
  },
  "orig_nbformat": 4
 },
 "nbformat": 4,
 "nbformat_minor": 2
}
